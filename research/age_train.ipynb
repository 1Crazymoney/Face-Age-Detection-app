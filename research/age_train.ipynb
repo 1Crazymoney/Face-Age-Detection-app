{
 "cells": [
  {
   "cell_type": "code",
   "execution_count": null,
   "id": "30e67029-f17c-4158-be1b-853417302a81",
   "metadata": {},
   "outputs": [],
   "source": []
  },
  {
   "cell_type": "markdown",
   "id": "b80e898b-783f-4903-ba61-e7d428f126d7",
   "metadata": {
    "tags": []
   },
   "source": [
    "# Consts"
   ]
  },
  {
   "cell_type": "code",
   "execution_count": 2,
   "id": "54b48854-7171-4027-8ecc-3ca9f63a26f0",
   "metadata": {
    "tags": [
     "parameters"
    ]
   },
   "outputs": [],
   "source": [
    "gpu_gb_limit = 6\n",
    "\n",
    "img_folder = r\"../data/UTKFace_Dataset/\""
   ]
  },
  {
   "cell_type": "markdown",
   "id": "1446e5dd-0252-405a-aa76-5adcd697903e",
   "metadata": {},
   "source": [
    "# Imports"
   ]
  },
  {
   "cell_type": "markdown",
   "id": "f2235207-7c6b-44f9-85ee-d1c8023e7787",
   "metadata": {},
   "source": [
    "## tf"
   ]
  },
  {
   "cell_type": "code",
   "execution_count": 2,
   "id": "2506d3e1-e824-4a0d-8444-51f3dac2e140",
   "metadata": {},
   "outputs": [],
   "source": [
    "import tensorflow as tf\n",
    "from tensorflow.keras.layers import Input, Dense, GlobalAveragePooling2D\n",
    "from tensorflow.keras.utils import plot_model\n",
    "from tensorflow import keras\n",
    "from tensorflow.keras.models import load_model\n",
    "\n",
    "from tensorflow.keras.preprocessing.image import ImageDataGenerator"
   ]
  },
  {
   "cell_type": "code",
   "execution_count": 1,
   "id": "088578d0-729f-4f90-af22-757aa897bcb4",
   "metadata": {},
   "outputs": [],
   "source": [
    "from deepface import DeepFace\n",
    "\n",
    "# import deepface.basemodels.VGGFace as vgg_util\n",
    "import deepface.basemodels as basemodels\n",
    "\n",
    "from glob import glob\n",
    "import matplotlib.pyplot as plt\n",
    "import numpy as np\n",
    "import os\n",
    "import pandas as pd\n",
    "\n",
    "from tqdm import tqdm"
   ]
  },
  {
   "cell_type": "code",
   "execution_count": 2,
   "id": "15f4b8b4-853c-4f18-925c-f94587ba13aa",
   "metadata": {},
   "outputs": [],
   "source": [
    "import yaml\n",
    "from pathlib import Path\n",
    "import sys"
   ]
  },
  {
   "cell_type": "markdown",
   "id": "a9c7bb4a-b69e-47cd-8c77-91f62232bbf4",
   "metadata": {
    "tags": []
   },
   "source": [
    "### Limit train GPU"
   ]
  },
  {
   "cell_type": "code",
   "execution_count": 8,
   "id": "f8fee0a1-5ff2-4ad6-a859-0e53c742d1af",
   "metadata": {},
   "outputs": [
    {
     "name": "stdout",
     "output_type": "stream",
     "text": [
      "age.ipynb  embed_preproc.py  evaluation_detection.ipynb  reports\n",
      "EDA.ipynb  evaluation_data   references\n"
     ]
    }
   ],
   "source": [
    "!ls"
   ]
  },
  {
   "cell_type": "code",
   "execution_count": 3,
   "id": "5ed8ab07-78ea-4f9d-93d0-8e8f62475501",
   "metadata": {},
   "outputs": [],
   "source": [
    "sys.path.append(r\"../age_module/\")\n",
    "from src.models import tf_mem"
   ]
  },
  {
   "cell_type": "code",
   "execution_count": 4,
   "id": "41ef9030-9b1e-48f2-9c1f-c44858bfee2b",
   "metadata": {},
   "outputs": [],
   "source": [
    "import src.models.img_utils as img_utils\n",
    "import src.models.inference as inference"
   ]
  },
  {
   "cell_type": "code",
   "execution_count": 12,
   "id": "d454341c-8881-4030-b909-918ac76cd72f",
   "metadata": {
    "scrolled": true,
    "tags": []
   },
   "outputs": [],
   "source": [
    "tf_mem.limit_gpu_gb(gpu_gb_limit)"
   ]
  },
  {
   "cell_type": "markdown",
   "id": "be3e5d0b-b320-4f9f-8870-92d5a4c2a5df",
   "metadata": {},
   "source": [
    "## Non GPU"
   ]
  },
  {
   "cell_type": "code",
   "execution_count": 9,
   "id": "8d9ec07f-e84f-46dd-bed8-89c94c852cbc",
   "metadata": {},
   "outputs": [],
   "source": [
    "retincaface_rep_path = r\"../deepface/\""
   ]
  },
  {
   "cell_type": "markdown",
   "id": "a6cc62b7-e8f4-45d8-bd90-e0f65d8bfb30",
   "metadata": {},
   "source": [
    "# Get the absolute path of the RetinaFace-tf2 directory\n",
    "retinaface_tf2_path = Path(retincaface_rep_path).resolve()\n",
    "\n",
    "# Add the directory to sys.path\n",
    "sys.path.append(retincaface_rep_path)"
   ]
  },
  {
   "cell_type": "code",
   "execution_count": 143,
   "id": "52cbcfc2-e1e5-40d9-8146-11f046b7e0ee",
   "metadata": {},
   "outputs": [
    {
     "data": {
      "text/plain": [
       "<module 'src.models.inference' from '/home/arm16/0_git/private/face_extrac2/research/../src/models/inference.py'>"
      ]
     },
     "execution_count": 143,
     "metadata": {},
     "output_type": "execute_result"
    }
   ],
   "source": [
    "importlib.reload(inference)"
   ]
  },
  {
   "cell_type": "markdown",
   "id": "b1a435f8-5869-4db1-b2fd-66ffb3648c0a",
   "metadata": {},
   "source": [
    "# Data"
   ]
  },
  {
   "cell_type": "code",
   "execution_count": 13,
   "id": "1c3afebc-be80-4c81-86e5-527f70e8cf75",
   "metadata": {},
   "outputs": [
    {
     "name": "stdout",
     "output_type": "stream",
     "text": [
      "23697\n"
     ]
    }
   ],
   "source": [
    "filenames = sorted(glob(f\"{Path(img_folder).resolve()}/*.jpg\"))\n",
    "print(len(filenames))"
   ]
  },
  {
   "cell_type": "code",
   "execution_count": 14,
   "id": "19511df5-e748-4e54-a670-67d21947c340",
   "metadata": {},
   "outputs": [],
   "source": [
    "df_path = sorted(glob(f\"{img_folder}/*.csv\"))[0]"
   ]
  },
  {
   "cell_type": "code",
   "execution_count": 15,
   "id": "0e034c37-3539-4876-94d1-506916e27ce9",
   "metadata": {
    "scrolled": true,
    "tags": []
   },
   "outputs": [
    {
     "data": {
      "text/html": [
       "<div>\n",
       "<style scoped>\n",
       "    .dataframe tbody tr th:only-of-type {\n",
       "        vertical-align: middle;\n",
       "    }\n",
       "\n",
       "    .dataframe tbody tr th {\n",
       "        vertical-align: top;\n",
       "    }\n",
       "\n",
       "    .dataframe thead th {\n",
       "        text-align: right;\n",
       "    }\n",
       "</style>\n",
       "<table border=\"1\" class=\"dataframe\">\n",
       "  <thead>\n",
       "    <tr style=\"text-align: right;\">\n",
       "      <th></th>\n",
       "      <th>filename</th>\n",
       "      <th>side</th>\n",
       "      <th>person_id</th>\n",
       "      <th>indicator</th>\n",
       "      <th>age</th>\n",
       "    </tr>\n",
       "  </thead>\n",
       "  <tbody>\n",
       "    <tr>\n",
       "      <th>17709</th>\n",
       "      <td>4_1_0_20170109192424440.jpg.chip.jpg</td>\n",
       "      <td>200</td>\n",
       "      <td>4_1_0_20170109192424440</td>\n",
       "      <td>0</td>\n",
       "      <td>4</td>\n",
       "    </tr>\n",
       "    <tr>\n",
       "      <th>21845</th>\n",
       "      <td>70_0_0_20170117175502596.jpg.chip.jpg</td>\n",
       "      <td>200</td>\n",
       "      <td>70_0_0_20170117175502596</td>\n",
       "      <td>1</td>\n",
       "      <td>70</td>\n",
       "    </tr>\n",
       "    <tr>\n",
       "      <th>16309</th>\n",
       "      <td>43_0_1_20170111194850581.jpg.chip.jpg</td>\n",
       "      <td>200</td>\n",
       "      <td>43_0_1_20170111194850581</td>\n",
       "      <td>1</td>\n",
       "      <td>43</td>\n",
       "    </tr>\n",
       "    <tr>\n",
       "      <th>1762</th>\n",
       "      <td>1_0_2_20161219154024292.jpg.chip.jpg</td>\n",
       "      <td>200</td>\n",
       "      <td>1_0_2_20161219154024292</td>\n",
       "      <td>1</td>\n",
       "      <td>1</td>\n",
       "    </tr>\n",
       "    <tr>\n",
       "      <th>18779</th>\n",
       "      <td>53_1_0_20170110141257440.jpg.chip.jpg</td>\n",
       "      <td>200</td>\n",
       "      <td>53_1_0_20170110141257440</td>\n",
       "      <td>0</td>\n",
       "      <td>53</td>\n",
       "    </tr>\n",
       "  </tbody>\n",
       "</table>\n",
       "</div>"
      ],
      "text/plain": [
       "                                    filename  side                 person_id  \\\n",
       "17709   4_1_0_20170109192424440.jpg.chip.jpg   200   4_1_0_20170109192424440   \n",
       "21845  70_0_0_20170117175502596.jpg.chip.jpg   200  70_0_0_20170117175502596   \n",
       "16309  43_0_1_20170111194850581.jpg.chip.jpg   200  43_0_1_20170111194850581   \n",
       "1762    1_0_2_20161219154024292.jpg.chip.jpg   200   1_0_2_20161219154024292   \n",
       "18779  53_1_0_20170110141257440.jpg.chip.jpg   200  53_1_0_20170110141257440   \n",
       "\n",
       "       indicator  age  \n",
       "17709          0    4  \n",
       "21845          1   70  \n",
       "16309          1   43  \n",
       "1762           1    1  \n",
       "18779          0   53  "
      ]
     },
     "execution_count": 15,
     "metadata": {},
     "output_type": "execute_result"
    }
   ],
   "source": [
    "df = pd.read_csv(\n",
    "    df_path, sep=\";\", names=[\"filename\", \"side\", \"person_id\", \"indicator\", \"age\"]\n",
    ")\n",
    "df.sample(5)"
   ]
  },
  {
   "cell_type": "markdown",
   "id": "2b325a68-8b93-44d9-a28a-a4e265c0c609",
   "metadata": {},
   "source": [
    "# VGGFace"
   ]
  },
  {
   "cell_type": "code",
   "execution_count": 16,
   "id": "b0ffb316-9181-4d4f-b454-1475c4be657b",
   "metadata": {},
   "outputs": [],
   "source": [
    "base_model_name = \"Facenet\"  # 'Facenet512'  # 'ArcFace' # 'VGGFace' #"
   ]
  },
  {
   "cell_type": "code",
   "execution_count": null,
   "id": "4d8eabb3-3baa-458b-83a5-83d61bf7c5b4",
   "metadata": {
    "scrolled": true,
    "tags": []
   },
   "outputs": [],
   "source": [
    "base_model_class = getattr(basemodels, base_model_name)\n",
    "full_model = base_model_class.loadModel()"
   ]
  },
  {
   "cell_type": "code",
   "execution_count": null,
   "id": "af1b6717-f384-4122-b331-d4b5f30ec31d",
   "metadata": {},
   "outputs": [],
   "source": [
    "embedder = tf.keras.Model([full_model.input], full_model.get_layer(index=-1).output)\n",
    "embedder.trainable = False"
   ]
  },
  {
   "cell_type": "code",
   "execution_count": null,
   "id": "c2068f6b-ca07-4168-9c23-a3c6a3fb1cc5",
   "metadata": {
    "scrolled": true,
    "tags": []
   },
   "outputs": [],
   "source": [
    "embedder.summary()"
   ]
  },
  {
   "cell_type": "markdown",
   "id": "09b51c3b-287a-49b1-950a-6facc050f85d",
   "metadata": {},
   "source": [
    "# Age model"
   ]
  },
  {
   "cell_type": "code",
   "execution_count": null,
   "id": "bf96d7f0-ae69-4b4b-8659-29766e55a336",
   "metadata": {},
   "outputs": [],
   "source": [
    "lr = 0.001"
   ]
  },
  {
   "cell_type": "code",
   "execution_count": null,
   "id": "d7f890b6-0c90-4a64-b2fe-3360c0d8b30e",
   "metadata": {
    "scrolled": true,
    "tags": []
   },
   "outputs": [],
   "source": [
    "target_col = \"age\"\n",
    "\n",
    "input_age = full_model.layers[0].input_shape[0][1:]  # (224, 224, 3)\n",
    "\n",
    "input_layer = Input(shape=input_age)\n",
    "\n",
    "base_model_main = embedder(input_layer)\n",
    "pre_final = Dense(128, activation=\"relu\")(base_model_main)\n",
    "age_output = Dense(1, activation=\"relu\")(pre_final)\n",
    "\n",
    "model = tf.keras.Model(inputs=input_layer, outputs=age_output)\n",
    "\n",
    "model.summary()"
   ]
  },
  {
   "cell_type": "markdown",
   "id": "4828fcdf-7a9b-41ee-a5a4-5cb6138963bc",
   "metadata": {},
   "source": [
    "# Dataset"
   ]
  },
  {
   "cell_type": "code",
   "execution_count": 94,
   "id": "440b1a32-b37b-488e-aa8b-dff314bbe28f",
   "metadata": {},
   "outputs": [],
   "source": [
    "CLASS_MODE = \"raw\"\n",
    "BATCH_SIZE = 72\n",
    "target_size = input_age[:2]  # (224, 224)"
   ]
  },
  {
   "cell_type": "markdown",
   "id": "3dfca6fa-9c98-4429-a66e-04ff89735678",
   "metadata": {},
   "source": [
    "# Reproducibility"
   ]
  },
  {
   "cell_type": "code",
   "execution_count": 11,
   "id": "10166c67-5a08-4245-9896-e783e75a6f66",
   "metadata": {},
   "outputs": [],
   "source": []
  },
  {
   "cell_type": "code",
   "execution_count": 13,
   "id": "0efbc0a0-de4f-4169-85eb-339e072e94a0",
   "metadata": {},
   "outputs": [],
   "source": [
    "sys.path.append('../')\n",
    "from age_module.app.output_converter import AdaptPredAPI"
   ]
  },
  {
   "cell_type": "code",
   "execution_count": 15,
   "id": "47d9363e-4c66-4b52-9be6-219e9f45d005",
   "metadata": {},
   "outputs": [],
   "source": [
    "pred = ({'face': None,'x': 10, 'y': 20, 'w': 100, 'h': 100}, \n",
    "        'not_an_age')\n",
    "\n",
    "converter = AdaptPredAPI(*pred)"
   ]
  },
  {
   "cell_type": "code",
   "execution_count": 16,
   "id": "bb216335-de28-40a4-9ad0-c97de7de2415",
   "metadata": {},
   "outputs": [
    {
     "data": {
      "text/plain": [
       "'not_an_age'"
      ]
     },
     "execution_count": 16,
     "metadata": {},
     "output_type": "execute_result"
    }
   ],
   "source": [
    "converter.age"
   ]
  },
  {
   "cell_type": "code",
   "execution_count": null,
   "id": "d77572c3-2dd1-4517-a6ea-b444f3f67aa7",
   "metadata": {},
   "outputs": [],
   "source": []
  },
  {
   "cell_type": "code",
   "execution_count": 23,
   "id": "1cf55391-7210-40d5-add4-4e196eb0761d",
   "metadata": {},
   "outputs": [],
   "source": [
    "SEED = 42"
   ]
  },
  {
   "cell_type": "code",
   "execution_count": null,
   "id": "11248cbe-0252-4ac6-84b4-f8c23e93dd90",
   "metadata": {
    "scrolled": true,
    "tags": []
   },
   "outputs": [],
   "source": [
    "from tensorflow.compat.v1.keras import backend as K\n",
    "import random as rn\n",
    "import os\n",
    "\n",
    "\n",
    "def set_seed(seed=42):\n",
    "    np.random.seed(seed)\n",
    "    rn.seed(seed)\n",
    "    os.environ[\"PYTHONHASHSEED\"] = str(seed)\n",
    "\n",
    "    tf.random.set_seed(seed)\n",
    "    session_conf = tf.compat.v1.ConfigProto(\n",
    "        intra_op_parallelism_threads=1, inter_op_parallelism_threads=1\n",
    "    )\n",
    "    sess = tf.compat.v1.Session(\n",
    "        graph=tf.compat.v1.get_default_graph(), config=session_conf\n",
    "    )\n",
    "    tf.compat.v1.keras.backend.set_session(sess)\n",
    "\n",
    "    K.set_session(sess)\n",
    "\n",
    "\n",
    "set_seed(SEED)"
   ]
  },
  {
   "cell_type": "markdown",
   "id": "e344f60c-be03-4775-a58f-46fa05d1cb47",
   "metadata": {},
   "source": [
    "# Train test split"
   ]
  },
  {
   "cell_type": "code",
   "execution_count": 27,
   "id": "1e5ee0ce-4ed2-4016-939b-e1aa1cc5bbc2",
   "metadata": {},
   "outputs": [
    {
     "name": "stdout",
     "output_type": "stream",
     "text": [
      "Тренировочная: 18957\n",
      "Валидационная: 2370\n"
     ]
    }
   ],
   "source": [
    "from sklearn.model_selection import train_test_split\n",
    "\n",
    "df_train, df_temp, _, _ = train_test_split(\n",
    "    df, df[target_col], test_size=0.2, random_state=SEED\n",
    ")\n",
    "\n",
    "df_val, df_test, _, _ = train_test_split(\n",
    "    df_temp, df_temp[target_col], test_size=0.5, random_state=SEED\n",
    ")\n",
    "\n",
    "print(\"Тренировочная:\", len(df_train))\n",
    "print(\"Валидационная:\", len(df_val))"
   ]
  },
  {
   "cell_type": "markdown",
   "id": "550be81d-9fed-461b-8823-23211dd85e78",
   "metadata": {},
   "source": [
    "## Store split to file"
   ]
  },
  {
   "cell_type": "code",
   "execution_count": 29,
   "id": "179005b1-cc91-4f79-a987-0cc847510e00",
   "metadata": {
    "scrolled": true,
    "tags": []
   },
   "outputs": [],
   "source": [
    "train_names = df_train[\"filename\"].tolist()\n",
    "val_names = df_val[\"filename\"].tolist()\n",
    "test_names = df_test[\"filename\"].tolist()\n",
    "\n",
    "split_info = {\"train\": train_names, \"val\": val_names, \"test\": test_names}\n",
    "\n",
    "yaml_path = \"./evaluation_data/split_info.yaml\"\n",
    "\n",
    "with open(yaml_path, \"w\") as yaml_file:\n",
    "    yaml.dump(split_info, yaml_file)"
   ]
  },
  {
   "cell_type": "markdown",
   "id": "c66776a2-49ff-4283-9983-1bd64009347c",
   "metadata": {},
   "source": [
    "# L"
   ]
  },
  {
   "cell_type": "code",
   "execution_count": 33,
   "id": "d371e779-cf4c-428e-88cf-df042862aecb",
   "metadata": {},
   "outputs": [],
   "source": [
    "callbacks = []\n",
    "optimizer = keras.optimizers.SGD(learning_rate=lr)"
   ]
  },
  {
   "cell_type": "code",
   "execution_count": 34,
   "id": "e36af381-9a0b-4e32-bdd1-360460a60fcd",
   "metadata": {},
   "outputs": [],
   "source": [
    "# optimizer = tf.keras.optimizers.Adam(learning_rate=lr)\n",
    "loss_mse = tf.keras.losses.MeanSquaredError()\n",
    "metric_mae = tf.keras.metrics.MeanAbsoluteError()"
   ]
  },
  {
   "cell_type": "code",
   "execution_count": 35,
   "id": "1c975e3e-dde8-4922-9a94-35fafd2157fd",
   "metadata": {},
   "outputs": [],
   "source": [
    "model.compile(optimizer=optimizer, loss=loss_mse, metrics=metric_mae)"
   ]
  },
  {
   "cell_type": "code",
   "execution_count": 501,
   "id": "759c8607-6513-40e4-abf7-5f93b1482600",
   "metadata": {},
   "outputs": [],
   "source": [
    "import matplotlib.pyplot as plt\n",
    "\n",
    "\n",
    "class LossPlotterCallback(tf.keras.callbacks.Callback):\n",
    "    def on_train_begin(self, logs={}):\n",
    "        self.losses = []\n",
    "        self.val_losses = []\n",
    "\n",
    "    def on_epoch_end(self, epoch, logs={}):\n",
    "        self.losses.append(logs.get(\"loss\"))\n",
    "        self.val_losses.append(logs.get(\"val_loss\"))\n",
    "\n",
    "        plt.plot(self.losses, \"b\", label=\"Training Loss\")\n",
    "        plt.plot(self.val_losses, \"r\", label=\"Validation Loss\")\n",
    "        plt.xlabel(\"Epoch\")\n",
    "        plt.ylabel(\"Loss\")\n",
    "        plt.title(\"Training and Validation Loss\")\n",
    "        plt.legend()\n",
    "        plt.show()"
   ]
  },
  {
   "cell_type": "code",
   "execution_count": 502,
   "id": "a52ec672-5e7c-4c38-b7a0-6b50559df2f3",
   "metadata": {},
   "outputs": [],
   "source": [
    "loss_plotter_callback = LossPlotterCallback()"
   ]
  },
  {
   "cell_type": "code",
   "execution_count": 503,
   "id": "c124bf39-4eff-41c5-8ec6-07e5c2d2d369",
   "metadata": {},
   "outputs": [],
   "source": [
    "cpt_path = \"../weights/age_checkpoint_best.h5\"\n",
    "\n",
    "checkpoint = tf.keras.callbacks.ModelCheckpoint(\n",
    "    cpt_path, monitor=\"val_loss\", verbose=1, save_best_only=True, mode=\"min\"\n",
    ")"
   ]
  },
  {
   "cell_type": "markdown",
   "id": "24ad794e-0682-4b28-bb57-647cd2f2f9fe",
   "metadata": {},
   "source": [
    "# Check preproc"
   ]
  },
  {
   "cell_type": "code",
   "execution_count": 504,
   "id": "f4959224-1ee1-4d97-b798-5a5a55a12063",
   "metadata": {},
   "outputs": [
    {
     "data": {
      "text/plain": [
       "dtype('O')"
      ]
     },
     "execution_count": 504,
     "metadata": {},
     "output_type": "execute_result"
    }
   ],
   "source": [
    "df.filename.dtype"
   ]
  },
  {
   "cell_type": "code",
   "execution_count": 129,
   "id": "1269f87c-6a23-45a1-8581-5992e4aebf72",
   "metadata": {
    "scrolled": true,
    "tags": []
   },
   "outputs": [
    {
     "name": "stdout",
     "output_type": "stream",
     "text": [
      "Facenet\n"
     ]
    }
   ],
   "source": [
    "preproc_deepface = img_utils.PreprocDeepface(base_model_name, target_size)"
   ]
  },
  {
   "cell_type": "code",
   "execution_count": 130,
   "id": "f75c597a-c1cb-47ce-b134-467e05b45424",
   "metadata": {
    "scrolled": true,
    "tags": []
   },
   "outputs": [
    {
     "data": {
      "text/plain": [
       "array([[[[-1.4177299 , -0.879004  , -0.68147117],\n",
       "         [-1.3099847 , -0.77125883, -0.573726  ],\n",
       "         [-1.0765368 , -0.5916835 , -0.41210824],\n",
       "         ...,\n",
       "         [-1.2381545 , -0.34027812, -0.41210824],\n",
       "         [-1.4716024 , -0.573726  , -0.6455561 ],\n",
       "         [-1.56139   , -0.6455561 , -0.71738625]],\n",
       "\n",
       "        [[-1.3099847 , -0.77125883, -0.573726  ],\n",
       "         [-1.2381545 , -0.6994287 , -0.5018959 ],\n",
       "         [-1.0944943 , -0.6096411 , -0.43006575],\n",
       "         ...,\n",
       "         [-1.184282  , -0.28640553, -0.35823566],\n",
       "         [-1.5793476 , -0.68147117, -0.75330126],\n",
       "         [-1.7230078 , -0.80717385, -0.879004  ]],\n",
       "\n",
       "        [[-1.1663244 , -0.66351366, -0.46598083],\n",
       "         [-1.1663244 , -0.66351366, -0.46598083],\n",
       "         [-1.2561121 , -0.80717385, -0.6275986 ],\n",
       "         ...,\n",
       "         [-1.220197  , -0.32232058, -0.3941507 ],\n",
       "         [-1.830753  , -0.9328766 , -1.0047066 ],\n",
       "         [-2.0642009 , -1.1483669 , -1.220197  ]],\n",
       "\n",
       "        ...,\n",
       "\n",
       "        [[-1.1124518 , -0.28640553, -0.5018959 ],\n",
       "         [-1.1483669 , -0.32232058, -0.5378109 ],\n",
       "         [-1.2022395 , -0.35823566, -0.5018959 ],\n",
       "         ...,\n",
       "         [-0.66351366,  0.77308863,  0.79104614],\n",
       "         [-0.6994287 ,  0.73717356,  0.7551311 ],\n",
       "         [-0.71738625,  0.71921605,  0.73717356]],\n",
       "\n",
       "        [[-0.3941507 ,  0.32415044,  0.12661763],\n",
       "         [-0.34027812,  0.37802303,  0.18049021],\n",
       "         [-0.28640553,  0.44985312,  0.32415044],\n",
       "         ...,\n",
       "         [-0.71738625,  0.71921605,  0.73717356],\n",
       "         [-0.75330126,  0.683301  ,  0.70125854],\n",
       "         [-0.77125883,  0.66534346,  0.683301  ]],\n",
       "\n",
       "        [[ 0.28823537,  0.9167489 ,  0.73717356],\n",
       "         [ 0.37802303,  1.0065365 ,  0.8269612 ],\n",
       "         [ 0.37802303,  1.024494  ,  0.9167489 ],\n",
       "         ...,\n",
       "         [-0.77125883,  0.66534346,  0.683301  ],\n",
       "         [-0.80717385,  0.6294284 ,  0.64738595],\n",
       "         [-0.80717385,  0.6294284 ,  0.64738595]]]], dtype=float32)"
      ]
     },
     "execution_count": 130,
     "metadata": {},
     "output_type": "execute_result"
    }
   ],
   "source": [
    "img_name = \"81_1_0_20170120134927295.jpg.chip.jpg\"\n",
    "img_path = f\"{img_folder}/{img_name}\"\n",
    "nn_input_example = preproc_deepface.preproc_by_path(img_path, target_size)\n",
    "nn_input_example"
   ]
  },
  {
   "cell_type": "code",
   "execution_count": 133,
   "id": "d6d87905-0526-4daf-aeea-c3e85b502eb2",
   "metadata": {
    "scrolled": true,
    "tags": []
   },
   "outputs": [
    {
     "name": "stderr",
     "output_type": "stream",
     "text": [
      "Clipping input data to the valid range for imshow with RGB data ([0..1] for floats or [0..255] for integers).\n"
     ]
    },
    {
     "data": {
      "text/plain": [
       "<matplotlib.image.AxesImage at 0x7faa65650fd0>"
      ]
     },
     "execution_count": 133,
     "metadata": {},
     "output_type": "execute_result"
    },
    {
     "data": {
      "image/png": "[encoded data removed]",
      "text/plain": [
       "<Figure size 432x288 with 1 Axes>"
      ]
     },
     "metadata": {
      "needs_background": "light"
     },
     "output_type": "display_data"
    }
   ],
   "source": [
    "plt.imshow(nn_input_example[0, :])"
   ]
  },
  {
   "cell_type": "code",
   "execution_count": 511,
   "id": "e409c2c3-ad1b-4ae1-8142-5a6e80182931",
   "metadata": {},
   "outputs": [
    {
     "name": "stdout",
     "output_type": "stream",
     "text": [
      "2.2635634 -2.3156064\n"
     ]
    }
   ],
   "source": [
    "print(nn_input_example.max(), nn_input_example.min())"
   ]
  },
  {
   "cell_type": "code",
   "execution_count": 512,
   "id": "cf6d6b93-125e-4bac-a9d3-c4486df481a5",
   "metadata": {},
   "outputs": [
    {
     "data": {
      "text/plain": [
       "(1, 160, 160, 3)"
      ]
     },
     "execution_count": 512,
     "metadata": {},
     "output_type": "execute_result"
    }
   ],
   "source": [
    "nn_input_example.shape"
   ]
  },
  {
   "cell_type": "markdown",
   "id": "84e0abab-e314-4fb7-85d5-5de6a50ed623",
   "metadata": {},
   "source": [
    "# Data generators"
   ]
  },
  {
   "cell_type": "code",
   "execution_count": 119,
   "id": "f8b710bb-edd8-48fd-9546-151fa0f4b86f",
   "metadata": {},
   "outputs": [
    {
     "data": {
      "text/plain": [
       "(160, 160)"
      ]
     },
     "execution_count": 119,
     "metadata": {},
     "output_type": "execute_result"
    }
   ],
   "source": [
    "target_size"
   ]
  },
  {
   "cell_type": "code",
   "execution_count": 116,
   "id": "4938d9f5-b0b3-49cf-9fa0-043bb0305abc",
   "metadata": {
    "scrolled": true,
    "tags": []
   },
   "outputs": [],
   "source": [
    "image_gen = ImageDataGenerator(preprocessing_function=preproc_deepface.preproc_img)"
   ]
  },
  {
   "cell_type": "code",
   "execution_count": 95,
   "id": "c71fdf00-5d29-4f7b-8b94-84360ef2db84",
   "metadata": {},
   "outputs": [
    {
     "name": "stdout",
     "output_type": "stream",
     "text": [
      "Found 18957 validated image filenames.\n"
     ]
    }
   ],
   "source": [
    "train_generator = image_gen.flow_from_dataframe(\n",
    "    dataframe=df_train,\n",
    "    class_mode=CLASS_MODE,\n",
    "    x_col=\"filename\",\n",
    "    y_col=target_col,\n",
    "    directory=img_folder,\n",
    "    target_size=target_size,\n",
    "    batch_size=BATCH_SIZE,\n",
    "    shuffle=True,\n",
    ")"
   ]
  },
  {
   "cell_type": "code",
   "execution_count": 96,
   "id": "c4c93bdb-8e92-4de5-ba91-bdf0ad35d371",
   "metadata": {},
   "outputs": [
    {
     "name": "stdout",
     "output_type": "stream",
     "text": [
      "Found 2370 validated image filenames.\n"
     ]
    }
   ],
   "source": [
    "val_generator = image_gen.flow_from_dataframe(\n",
    "    dataframe=df_val,\n",
    "    class_mode=CLASS_MODE,\n",
    "    x_col=\"filename\",\n",
    "    y_col=target_col,\n",
    "    directory=img_folder,\n",
    "    target_size=target_size,\n",
    "    batch_size=BATCH_SIZE,\n",
    "    shuffle=False,\n",
    ")"
   ]
  },
  {
   "cell_type": "code",
   "execution_count": 516,
   "id": "6c95c070-3e34-46e7-8812-01f6156676ea",
   "metadata": {},
   "outputs": [],
   "source": [
    "callbacks.extend([loss_plotter_callback, checkpoint])"
   ]
  },
  {
   "cell_type": "markdown",
   "id": "2a951aaf-6449-48f7-b1c2-13069f44c629",
   "metadata": {},
   "source": [
    "# Train execute"
   ]
  },
  {
   "cell_type": "code",
   "execution_count": null,
   "id": "25492dcf-67e0-4a35-af6c-ac80ad58564b",
   "metadata": {
    "scrolled": true,
    "tags": []
   },
   "outputs": [],
   "source": [
    "EPOCHS = 200\n",
    "\n",
    "model.fit(\n",
    "    train_generator,\n",
    "    epochs=EPOCHS,\n",
    "    validation_data=val_generator,\n",
    "    callbacks=callbacks,\n",
    "    steps_per_epoch=50,\n",
    "    validation_steps=len(df_val) // BATCH_SIZE,\n",
    ")"
   ]
  },
  {
   "cell_type": "markdown",
   "id": "99ffe215-917e-400c-8594-fa2a02040468",
   "metadata": {},
   "source": [
    "# Score on test"
   ]
  },
  {
   "cell_type": "code",
   "execution_count": 38,
   "id": "007f9308-1669-4d77-b330-99f0c8a247b0",
   "metadata": {},
   "outputs": [],
   "source": [
    "model = load_model(\"../weights/Facenet_121_age_checkpoint_best.h5\")"
   ]
  },
  {
   "cell_type": "code",
   "execution_count": 117,
   "id": "97ab3736-1470-4bd3-8a94-7fe87f750704",
   "metadata": {
    "scrolled": true,
    "tags": []
   },
   "outputs": [
    {
     "name": "stdout",
     "output_type": "stream",
     "text": [
      "Found 2370 validated image filenames.\n"
     ]
    }
   ],
   "source": [
    "test_generator = image_gen.flow_from_dataframe(\n",
    "    dataframe=df_test,\n",
    "    class_mode=CLASS_MODE,\n",
    "    x_col=\"filename\",\n",
    "    y_col=target_col,\n",
    "    directory=img_folder,\n",
    "    target_size=target_size,\n",
    "    batch_size=BATCH_SIZE,\n",
    "    shuffle=False,\n",
    ")"
   ]
  },
  {
   "cell_type": "code",
   "execution_count": 118,
   "id": "58763e3a-d013-45be-ac9e-2065f7bd1caa",
   "metadata": {},
   "outputs": [
    {
     "name": "stdout",
     "output_type": "stream",
     "text": [
      "32/32 [==============================] - 3s 96ms/step - loss: 61.5504 - mean_absolute_error: 5.7145\n"
     ]
    }
   ],
   "source": [
    "results = model.evaluate(test_generator, steps=len(df_test) // BATCH_SIZE)"
   ]
  },
  {
   "cell_type": "markdown",
   "id": "8c941d46-613a-48fb-ab24-053a519f9afd",
   "metadata": {},
   "source": [
    "# Example inference"
   ]
  },
  {
   "cell_type": "code",
   "execution_count": 134,
   "id": "c51a1505-4a01-4b14-a2b9-e5d5f2ffde32",
   "metadata": {},
   "outputs": [],
   "source": [
    "im_orig = load_img(img_path, target_size=target_size)"
   ]
  },
  {
   "cell_type": "code",
   "execution_count": 135,
   "id": "47d3b91c-5df2-4c4c-8485-2e91f08750ad",
   "metadata": {},
   "outputs": [
    {
     "data": {
      "image/png": "[encoded data removed]",
      "text/plain": [
       "<PIL.Image.Image image mode=RGB size=160x160>"
      ]
     },
     "execution_count": 135,
     "metadata": {},
     "output_type": "execute_result"
    }
   ],
   "source": [
    "im_orig"
   ]
  },
  {
   "cell_type": "code",
   "execution_count": 145,
   "id": "783c5c06-2fce-4c53-9364-04b1ebfb3bcd",
   "metadata": {},
   "outputs": [
    {
     "data": {
      "text/plain": [
       "array([[84.39782]], dtype=float32)"
      ]
     },
     "execution_count": 145,
     "metadata": {},
     "output_type": "execute_result"
    }
   ],
   "source": [
    "age_pred = inference.esteem_age(im_orig, model, preproc_deepface.preproc_img)\n",
    "\n",
    "age_pred"
   ]
  },
  {
   "cell_type": "code",
   "execution_count": 147,
   "id": "16b11831-277e-4469-9fcf-d67776abcf10",
   "metadata": {},
   "outputs": [
    {
     "data": {
      "text/plain": [
       "84.39782"
      ]
     },
     "execution_count": 147,
     "metadata": {},
     "output_type": "execute_result"
    }
   ],
   "source": [
    "age_pred[0][0]"
   ]
  },
  {
   "cell_type": "markdown",
   "id": "ba6aac87-f724-4cdb-8324-c002d3230c3f",
   "metadata": {},
   "source": [
    "# Store configs for best model"
   ]
  },
  {
   "cell_type": "code",
   "execution_count": 137,
   "id": "b8e1f1b0-5f40-4bbd-994a-32a2e97ee7a7",
   "metadata": {},
   "outputs": [],
   "source": [
    "age_dict = dict(\n",
    "    age_best_model_path=cpt_path,\n",
    "    age_preproc_family=base_model_name,\n",
    "    target_size=list(target_size),\n",
    ")"
   ]
  },
  {
   "cell_type": "code",
   "execution_count": 138,
   "id": "1186090a-db09-4fb6-a542-edae8d4b3118",
   "metadata": {},
   "outputs": [],
   "source": [
    "import yaml\n",
    "\n",
    "yaml_path = f\"../configs/age_esteem.yaml\"\n",
    "\n",
    "with open(yaml_path, \"w\") as f:\n",
    "    yaml.dump(\n",
    "        detection_dict,\n",
    "        f,\n",
    "        allow_unicode=True,  # makes encoding work properly\n",
    "        encoding=\"utf8\",\n",
    "        default_flow_style=False,\n",
    "    )"
   ]
  },
  {
   "cell_type": "code",
   "execution_count": null,
   "id": "27071646-9f55-4f07-8cf6-e9b06d558d23",
   "metadata": {},
   "outputs": [],
   "source": []
  }
 ],
 "metadata": {
  "kernelspec": {
   "display_name": "Python [conda env:face_detection_age]",
   "language": "python",
   "name": "conda-env-face_detection_age-py"
  },
  "language_info": {
   "codemirror_mode": {
    "name": "ipython",
    "version": 3
   },
   "file_extension": ".py",
   "mimetype": "text/x-python",
   "name": "python",
   "nbconvert_exporter": "python",
   "pygments_lexer": "ipython3",
   "version": "3.8.19"
  },
  "toc-autonumbering": true
 },
 "nbformat": 4,
 "nbformat_minor": 5
}
