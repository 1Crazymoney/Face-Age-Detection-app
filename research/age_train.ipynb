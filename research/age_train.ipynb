{
 "cells": [
  {
   "cell_type": "code",
   "execution_count": null,
   "id": "30e67029-f17c-4158-be1b-853417302a81",
   "metadata": {},
   "outputs": [],
   "source": []
  },
  {
   "cell_type": "markdown",
   "id": "ab630d54-aca9-4367-86af-ed6b8f8eb072",
   "metadata": {},
   "source": [
    "# Imports"
   ]
  },
  {
   "cell_type": "markdown",
   "id": "bba6f6b9-c123-4e6c-b2a6-cd20a5a8cc5e",
   "metadata": {},
   "source": [
    "## tf"
   ]
  },
  {
   "cell_type": "code",
   "execution_count": 4,
   "id": "2e8e50a2-e173-47d5-a034-aa4fe2222462",
   "metadata": {},
   "outputs": [
    {
     "name": "stdout",
     "output_type": "stream",
     "text": [
      "1.10.1\n"
     ]
    }
   ],
   "source": [
    "import scipy\n",
    "print(scipy.__version__)"
   ]
  },
  {
   "cell_type": "code",
   "execution_count": null,
   "id": "5f7cda02-1a8d-4006-a259-d39523d4ea3d",
   "metadata": {
    "scrolled": true,
    "tags": []
   },
   "outputs": [],
   "source": [
    "from glob import glob\n",
    "import os\n",
    "from pathlib import Path\n",
    "import random as rn\n",
    "import sys\n",
    "\n",
    "import matplotlib.pyplot as plt\n",
    "import mlflow\n",
    "import mlflow.keras\n",
    "import numpy as np\n",
    "import pandas as pd\n",
    "from sklearn.model_selection import train_test_split\n",
    "import tensorflow as tf\n",
    "from tensorflow.compat.v1.keras import backend as K\n",
    "from tensorflow.keras.layers import Input, Dense, GlobalAveragePooling2D\n",
    "from tensorflow import keras\n",
    "from tensorflow.keras.models import load_model\n",
    "from tensorflow.keras.preprocessing.image import ImageDataGenerator\n",
    "from tensorflow.keras.preprocessing.image import load_img\n",
    "import yaml\n",
    "\n",
    "from deepface import basemodels\n",
    "\n",
    "sys.path.append(\"../\")\n",
    "\n",
    "from age_module.src.models import img_utils\n",
    "from age_module.src.models import inference\n",
    "from age_module.src.models import tf_mem"
   ]
  },
  {
   "cell_type": "markdown",
   "id": "b80e898b-783f-4903-ba61-e7d428f126d7",
   "metadata": {
    "tags": []
   },
   "source": [
    "# Consts"
   ]
  },
  {
   "cell_type": "code",
   "execution_count": null,
   "id": "54b48854-7171-4027-8ecc-3ca9f63a26f0",
   "metadata": {
    "tags": [
     "parameters"
    ]
   },
   "outputs": [],
   "source": [
    "# Train\n",
    "GPU_GB_LIMIT = 6\n",
    "BATCH_SIZE = 72\n",
    "\n",
    "experiment_name = \"age_prediction\"\n",
    "\n",
    "# Existent folders\n",
    "img_folder = r\"../utkface_aligned_cropped/UTKFace/\"\n",
    "yaml_path = r\"../configs/age_esteem.yaml\"\n",
    "# Weight save file\n",
    "cpt_path = r\"../age_module/weights/age_checkpoint_best.h5\"\n",
    "\n",
    "SEED = 42\n",
    "CLASS_MODE = \"raw\""
   ]
  },
  {
   "cell_type": "markdown",
   "id": "a9c7bb4a-b69e-47cd-8c77-91f62232bbf4",
   "metadata": {
    "tags": []
   },
   "source": [
    "### Limit train GPU"
   ]
  },
  {
   "cell_type": "code",
   "execution_count": null,
   "id": "d454341c-8881-4030-b909-918ac76cd72f",
   "metadata": {
    "scrolled": true,
    "tags": []
   },
   "outputs": [],
   "source": [
    "# prevent overflow\n",
    "tf_mem.limit_gpu_gb(gpu_gb_limit)"
   ]
  },
  {
   "cell_type": "markdown",
   "id": "b1a435f8-5869-4db1-b2fd-66ffb3648c0a",
   "metadata": {},
   "source": [
    "# Data"
   ]
  },
  {
   "cell_type": "code",
   "execution_count": null,
   "id": "1c3afebc-be80-4c81-86e5-527f70e8cf75",
   "metadata": {},
   "outputs": [],
   "source": [
    "filenames = sorted(glob(f\"{Path(img_folder).resolve()}/*.jpg\"))\n",
    "print(len(filenames))"
   ]
  },
  {
   "cell_type": "code",
   "execution_count": null,
   "id": "19511df5-e748-4e54-a670-67d21947c340",
   "metadata": {},
   "outputs": [],
   "source": [
    "df_path = sorted(glob(f\"{img_folder}/*.csv\"))[0]"
   ]
  },
  {
   "cell_type": "code",
   "execution_count": null,
   "id": "0e034c37-3539-4876-94d1-506916e27ce9",
   "metadata": {
    "scrolled": true,
    "tags": []
   },
   "outputs": [],
   "source": [
    "df = pd.read_csv(\n",
    "    df_path, sep=\";\", names=[\"filename\", \"side\", \"person_id\", \"indicator\", \"age\"]\n",
    ")\n",
    "df.sample(5)"
   ]
  },
  {
   "cell_type": "markdown",
   "id": "09b51c3b-287a-49b1-950a-6facc050f85d",
   "metadata": {},
   "source": [
    "# Age model"
   ]
  },
  {
   "cell_type": "code",
   "execution_count": null,
   "id": "d3da0513-52bb-4aa8-af6f-a97aa436d992",
   "metadata": {},
   "outputs": [],
   "source": [
    "mlflow.set_experiment(\"age_prediction_experiment\")"
   ]
  },
  {
   "cell_type": "code",
   "execution_count": null,
   "id": "bf96d7f0-ae69-4b4b-8659-29766e55a336",
   "metadata": {
    "tags": []
   },
   "outputs": [],
   "source": [
    "lr = 0.001"
   ]
  },
  {
   "cell_type": "code",
   "execution_count": null,
   "id": "d7f890b6-0c90-4a64-b2fe-3360c0d8b30e",
   "metadata": {
    "scrolled": true,
    "tags": []
   },
   "outputs": [],
   "source": [
    "target_col = \"age\""
   ]
  },
  {
   "cell_type": "code",
   "execution_count": null,
   "id": "27563d86-aa56-4981-a198-d74f8f76ccc6",
   "metadata": {},
   "outputs": [],
   "source": [
    "def objective(trial):\n",
    "    with mlflow.start_run():\n",
    "        EPOCHS = 200\n",
    "        \n",
    "        base_model_name = trial.suggest_categorical('base_model_name', ['Facenet', 'Facenet512', 'ArcFace', 'VGGFace'])\n",
    "        base_model_class = getattr(basemodels, base_model_name)\n",
    "        full_model = base_model_class.loadModel()\n",
    "        embedder = tf.keras.Model([full_model.input], full_model.get_layer(index=-1).output)\n",
    "        embedder.trainable = False\n",
    "\n",
    "        input_age = full_model.layers[0].input_shape[0][1:]\n",
    "        input_layer = Input(shape=input_age)\n",
    "\n",
    "        base_model_main = embedder(input_layer)\n",
    "        apply_gap = trial.suggest_categorical('apply_gap', [True, False])\n",
    "        if apply_gap:\n",
    "            base_model_main = GlobalAveragePooling2D()(base_model_main)\n",
    "\n",
    "        pre_final_units = trial.suggest_int('pre_final_units', 64, 256, step=64)\n",
    "        pre_final_activation = trial.suggest_categorical('pre_final_activation', ['relu', 'tanh'])\n",
    "        pre_final = Dense(pre_final_units, activation=pre_final_activation)(base_model_main)\n",
    "        age_output = Dense(1, activation=\"relu\")(pre_final)\n",
    "\n",
    "        model = tf.keras.Model(inputs=input_layer, outputs=age_output)\n",
    "        #model.summary()\n",
    "\n",
    "        # Compile\n",
    "        optimizer_name = trial.suggest_categorical('optimizer', ['adam', 'sgd'])\n",
    "        optimizer = tf.keras.optimizers.get(optimizer_name)\n",
    "        model.compile(optimizer=optimizer, loss='mean_squared_error', metrics=['mae'])\n",
    "\n",
    "        # Log the parameters\n",
    "        mlflow.log_params({\n",
    "            'base_model_name': base_model_name,\n",
    "            'apply_gap': apply_gap,\n",
    "            'pre_final_units': pre_final_units,\n",
    "            'pre_final_activation': pre_final_activation,\n",
    "            'optimizer': optimizer_name\n",
    "        })\n",
    "\n",
    "        # Train\n",
    "        history = model.fit(\n",
    "            train_generator,\n",
    "            epochs=EPOCHS,\n",
    "            validation_data=val_generator,\n",
    "            callbacks=callbacks,\n",
    "            steps_per_epoch=50,\n",
    "            validation_steps=len(df_val) // BATCH_SIZE,\n",
    "        )\n",
    "\n",
    "        # Evaluate \n",
    "        val_loss, val_mae = model.evaluate(val_generator)\n",
    "        \n",
    "        mlflow.log_metrics({'val_loss': val_loss, 'val_mae': val_mae})\n",
    "        \n",
    "        mlflow.keras.log_model(model, \"model\")\n",
    "\n",
    "        return val_mae\n"
   ]
  },
  {
   "cell_type": "markdown",
   "id": "4828fcdf-7a9b-41ee-a5a4-5cb6138963bc",
   "metadata": {},
   "source": [
    "# Dataset"
   ]
  },
  {
   "cell_type": "code",
   "execution_count": null,
   "id": "440b1a32-b37b-488e-aa8b-dff314bbe28f",
   "metadata": {
    "tags": []
   },
   "outputs": [],
   "source": [
    "target_size = input_age[:2]  # (224, 224)"
   ]
  },
  {
   "cell_type": "markdown",
   "id": "3dfca6fa-9c98-4429-a66e-04ff89735678",
   "metadata": {},
   "source": [
    "# Reproducibility 1/2"
   ]
  },
  {
   "cell_type": "code",
   "execution_count": null,
   "id": "11248cbe-0252-4ac6-84b4-f8c23e93dd90",
   "metadata": {
    "scrolled": true,
    "tags": []
   },
   "outputs": [],
   "source": [
    "def set_seed(seed=SEED):\n",
    "    np.random.seed(seed)\n",
    "    rn.seed(seed)\n",
    "    os.environ[\"PYTHONHASHSEED\"] = str(seed)\n",
    "\n",
    "    tf.random.set_seed(seed)\n",
    "    session_conf = tf.compat.v1.ConfigProto(\n",
    "        intra_op_parallelism_threads=1, inter_op_parallelism_threads=1\n",
    "    )\n",
    "    sess = tf.compat.v1.Session(\n",
    "        graph=tf.compat.v1.get_default_graph(), config=session_conf\n",
    "    )\n",
    "    tf.compat.v1.keras.backend.set_session(sess)\n",
    "\n",
    "    K.set_session(sess)\n",
    "\n",
    "\n",
    "set_seed(SEED)"
   ]
  },
  {
   "cell_type": "markdown",
   "id": "e344f60c-be03-4775-a58f-46fa05d1cb47",
   "metadata": {},
   "source": [
    "# Train test split"
   ]
  },
  {
   "cell_type": "code",
   "execution_count": null,
   "id": "1e5ee0ce-4ed2-4016-939b-e1aa1cc5bbc2",
   "metadata": {},
   "outputs": [],
   "source": [
    "df_train, df_temp, _, _ = train_test_split(\n",
    "    df, df[target_col], test_size=0.2, random_state=SEED\n",
    ")\n",
    "\n",
    "df_val, df_test, _, _ = train_test_split(\n",
    "    df_temp, df_temp[target_col], test_size=0.5, random_state=SEED\n",
    ")\n",
    "\n",
    "print(\"Train count:\", len(df_train))\n",
    "print(\"Validation count:\", len(df_val))"
   ]
  },
  {
   "cell_type": "markdown",
   "id": "550be81d-9fed-461b-8823-23211dd85e78",
   "metadata": {},
   "source": [
    "## Store split to file reproducibility 2/2"
   ]
  },
  {
   "cell_type": "code",
   "execution_count": null,
   "id": "179005b1-cc91-4f79-a987-0cc847510e00",
   "metadata": {
    "scrolled": true,
    "tags": []
   },
   "outputs": [],
   "source": [
    "train_names = df_train[\"filename\"].tolist()\n",
    "val_names = df_val[\"filename\"].tolist()\n",
    "test_names = df_test[\"filename\"].tolist()\n",
    "\n",
    "split_info = {\"train\": train_names, \"val\": val_names, \"test\": test_names}\n",
    "\n",
    "yaml_path = \"./evaluation_data/split_info.yaml\"\n",
    "\n",
    "with open(yaml_path, \"w\") as yaml_file:\n",
    "    yaml.dump(split_info, yaml_file)"
   ]
  },
  {
   "cell_type": "markdown",
   "id": "24ad794e-0682-4b28-bb57-647cd2f2f9fe",
   "metadata": {},
   "source": [
    "# Check preproc"
   ]
  },
  {
   "cell_type": "code",
   "execution_count": null,
   "id": "1269f87c-6a23-45a1-8581-5992e4aebf72",
   "metadata": {
    "scrolled": true,
    "tags": []
   },
   "outputs": [],
   "source": [
    "preproc_deepface = img_utils.PreprocDeepface(base_model_name, target_size)"
   ]
  },
  {
   "cell_type": "code",
   "execution_count": null,
   "id": "f75c597a-c1cb-47ce-b134-467e05b45424",
   "metadata": {
    "scrolled": true,
    "tags": []
   },
   "outputs": [],
   "source": [
    "img_name = \"81_1_0_20170120134927295.jpg.chip.jpg\"\n",
    "img_path = f\"{img_folder}/{img_name}\"\n",
    "nn_input_example = preproc_deepface.preproc_by_path(img_path, target_size)\n",
    "print(nn_input_example)"
   ]
  },
  {
   "cell_type": "code",
   "execution_count": null,
   "id": "d6d87905-0526-4daf-aeea-c3e85b502eb2",
   "metadata": {
    "scrolled": true,
    "tags": []
   },
   "outputs": [],
   "source": [
    "plt.imshow(nn_input_example[0, :])"
   ]
  },
  {
   "cell_type": "code",
   "execution_count": null,
   "id": "e409c2c3-ad1b-4ae1-8142-5a6e80182931",
   "metadata": {},
   "outputs": [],
   "source": [
    "print(nn_input_example.max(), nn_input_example.min())"
   ]
  },
  {
   "cell_type": "code",
   "execution_count": null,
   "id": "cf6d6b93-125e-4bac-a9d3-c4486df481a5",
   "metadata": {},
   "outputs": [],
   "source": [
    "nn_input_example.shape"
   ]
  },
  {
   "cell_type": "markdown",
   "id": "84e0abab-e314-4fb7-85d5-5de6a50ed623",
   "metadata": {},
   "source": [
    "# Data generators"
   ]
  },
  {
   "cell_type": "code",
   "execution_count": null,
   "id": "f8b710bb-edd8-48fd-9546-151fa0f4b86f",
   "metadata": {},
   "outputs": [],
   "source": [
    "target_size"
   ]
  },
  {
   "cell_type": "code",
   "execution_count": null,
   "id": "4938d9f5-b0b3-49cf-9fa0-043bb0305abc",
   "metadata": {
    "scrolled": true,
    "tags": []
   },
   "outputs": [],
   "source": [
    "image_gen = ImageDataGenerator(preprocessing_function=preproc_deepface.preproc_img)"
   ]
  },
  {
   "cell_type": "code",
   "execution_count": null,
   "id": "c71fdf00-5d29-4f7b-8b94-84360ef2db84",
   "metadata": {},
   "outputs": [],
   "source": [
    "train_generator = image_gen.flow_from_dataframe(\n",
    "    dataframe=df_train,\n",
    "    class_mode=CLASS_MODE,\n",
    "    x_col=\"filename\",\n",
    "    y_col=target_col,\n",
    "    directory=img_folder,\n",
    "    target_size=target_size,\n",
    "    batch_size=BATCH_SIZE,\n",
    "    shuffle=True,\n",
    ")"
   ]
  },
  {
   "cell_type": "code",
   "execution_count": null,
   "id": "c4c93bdb-8e92-4de5-ba91-bdf0ad35d371",
   "metadata": {},
   "outputs": [],
   "source": [
    "val_generator = image_gen.flow_from_dataframe(\n",
    "    dataframe=df_val,\n",
    "    class_mode=CLASS_MODE,\n",
    "    x_col=\"filename\",\n",
    "    y_col=target_col,\n",
    "    directory=img_folder,\n",
    "    target_size=target_size,\n",
    "    batch_size=BATCH_SIZE,\n",
    "    shuffle=False,\n",
    ")"
   ]
  },
  {
   "cell_type": "markdown",
   "id": "2a951aaf-6449-48f7-b1c2-13069f44c629",
   "metadata": {},
   "source": [
    "# Train execute"
   ]
  },
  {
   "cell_type": "code",
   "execution_count": null,
   "id": "25492dcf-67e0-4a35-af6c-ac80ad58564b",
   "metadata": {
    "scrolled": true,
    "tags": []
   },
   "outputs": [],
   "source": [
    "study = optuna.create_study(direction='minimize')\n",
    "study.optimize(objective, n_trials=20)\n",
    "\n",
    "# Save the best model details\n",
    "best_trial = study.best_trial\n",
    "age_dict = {\n",
    "    \"age_best_model_path\": cpt_path,\n",
    "    \"age_preproc_family\": best_trial.params['base_model_name'],\n",
    "    \"target_size\": list(target_size),\n",
    "}"
   ]
  },
  {
   "cell_type": "markdown",
   "id": "99ffe215-917e-400c-8594-fa2a02040468",
   "metadata": {},
   "source": [
    "# Score on test"
   ]
  },
  {
   "cell_type": "code",
   "execution_count": 38,
   "id": "007f9308-1669-4d77-b330-99f0c8a247b0",
   "metadata": {},
   "outputs": [],
   "source": [
    "#model = load_model(\"../weights/Facenet_121_age_checkpoint_best.h5\")\n",
    "model_path = mlflow.get_artifact_uri('model')\n",
    "model = study.load_model(model_path)"
   ]
  },
  {
   "cell_type": "code",
   "execution_count": 117,
   "id": "97ab3736-1470-4bd3-8a94-7fe87f750704",
   "metadata": {
    "scrolled": true,
    "tags": []
   },
   "outputs": [
    {
     "name": "stdout",
     "output_type": "stream",
     "text": [
      "Found 2370 validated image filenames.\n"
     ]
    }
   ],
   "source": [
    "test_generator = image_gen.flow_from_dataframe(\n",
    "    dataframe=df_test,\n",
    "    class_mode=CLASS_MODE,\n",
    "    x_col=\"filename\",\n",
    "    y_col=target_col,\n",
    "    directory=img_folder,\n",
    "    target_size=target_size,\n",
    "    batch_size=BATCH_SIZE,\n",
    "    shuffle=False,\n",
    ")"
   ]
  },
  {
   "cell_type": "code",
   "execution_count": 118,
   "id": "58763e3a-d013-45be-ac9e-2065f7bd1caa",
   "metadata": {},
   "outputs": [
    {
     "name": "stdout",
     "output_type": "stream",
     "text": [
      "32/32 [==============================] - 3s 96ms/step - loss: 61.5504 - mean_absolute_error: 5.7145\n"
     ]
    }
   ],
   "source": [
    "results = model.evaluate(test_generator, steps=len(df_test) // BATCH_SIZE)"
   ]
  },
  {
   "cell_type": "markdown",
   "id": "8c941d46-613a-48fb-ab24-053a519f9afd",
   "metadata": {},
   "source": [
    "# Example inference"
   ]
  },
  {
   "cell_type": "code",
   "execution_count": 134,
   "id": "c51a1505-4a01-4b14-a2b9-e5d5f2ffde32",
   "metadata": {},
   "outputs": [],
   "source": [
    "im_orig = load_img(img_path, target_size=target_size)"
   ]
  },
  {
   "cell_type": "code",
   "execution_count": 135,
   "id": "47d3b91c-5df2-4c4c-8485-2e91f08750ad",
   "metadata": {},
   "outputs": [
    {
     "data": {
      "image/png": "[encoded data removed]",
      "text/plain": [
       "<PIL.Image.Image image mode=RGB size=160x160>"
      ]
     },
     "execution_count": 135,
     "metadata": {},
     "output_type": "execute_result"
    }
   ],
   "source": [
    "im_orig"
   ]
  },
  {
   "cell_type": "code",
   "execution_count": 145,
   "id": "783c5c06-2fce-4c53-9364-04b1ebfb3bcd",
   "metadata": {},
   "outputs": [
    {
     "data": {
      "text/plain": [
       "array([[84.39782]], dtype=float32)"
      ]
     },
     "execution_count": 145,
     "metadata": {},
     "output_type": "execute_result"
    }
   ],
   "source": [
    "age_pred = inference.esteem_age(im_orig, model, preproc_deepface.preproc_img)\n",
    "\n",
    "age_pred"
   ]
  },
  {
   "cell_type": "code",
   "execution_count": 147,
   "id": "16b11831-277e-4469-9fcf-d67776abcf10",
   "metadata": {},
   "outputs": [
    {
     "data": {
      "text/plain": [
       "84.39782"
      ]
     },
     "execution_count": 147,
     "metadata": {},
     "output_type": "execute_result"
    }
   ],
   "source": [
    "age_pred[0][0]"
   ]
  }
 ],
 "metadata": {
  "kernelspec": {
   "display_name": "Python [conda env:face_detection_age]",
   "language": "python",
   "name": "conda-env-face_detection_age-py"
  },
  "language_info": {
   "codemirror_mode": {
    "name": "ipython",
    "version": 3
   },
   "file_extension": ".py",
   "mimetype": "text/x-python",
   "name": "python",
   "nbconvert_exporter": "python",
   "pygments_lexer": "ipython3",
   "version": "3.8.19"
  },
  "toc-autonumbering": true
 },
 "nbformat": 4,
 "nbformat_minor": 5
}
