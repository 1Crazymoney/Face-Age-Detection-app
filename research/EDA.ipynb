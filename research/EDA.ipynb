{
 "cells": [
  {
   "cell_type": "code",
   "execution_count": null,
   "id": "c009dc92-b6f3-4682-93ab-1df9eb8fd56e",
   "metadata": {},
   "outputs": [],
   "source": []
  },
  {
   "cell_type": "markdown",
   "id": "0fe8a253-9596-46f1-8041-7f215cc20e3a",
   "metadata": {},
   "source": [
    "# Args"
   ]
  },
  {
   "cell_type": "code",
   "execution_count": 1,
   "id": "907e93dd-39cd-4024-bef1-ae861cea7b1b",
   "metadata": {},
   "outputs": [],
   "source": [
    "import yaml"
   ]
  },
  {
   "cell_type": "code",
   "execution_count": 4,
   "id": "6e3ab966-d2fd-4b03-9656-76c33188018c",
   "metadata": {
    "tags": [
     "parameters"
    ]
   },
   "outputs": [],
   "source": [
    "abs_img_folder = (\n",
    "    r\"/home/arm16/0_git/private/face_p_age_detection//data/UTKFace_Dataset/\"\n",
    ")"
   ]
  },
  {
   "cell_type": "markdown",
   "id": "7fc36115-6662-4fff-93b9-ff090bf5bf48",
   "metadata": {},
   "source": [
    "# Imports"
   ]
  },
  {
   "cell_type": "code",
   "execution_count": 2,
   "id": "b21cdbf8-b171-4778-8aa4-de6f561e579e",
   "metadata": {},
   "outputs": [],
   "source": [
    "from glob import glob\n",
    "import os\n",
    "import pandas as pd\n",
    "from tqdm import tqdm"
   ]
  },
  {
   "cell_type": "markdown",
   "id": "8d9d9e37-b2e9-4b79-a935-24729a3ec2d8",
   "metadata": {},
   "source": [
    "# Data"
   ]
  },
  {
   "cell_type": "code",
   "execution_count": 5,
   "id": "f93b409c-a6cb-40af-a5f5-9d62a7ed8478",
   "metadata": {},
   "outputs": [
    {
     "name": "stdout",
     "output_type": "stream",
     "text": [
      "23697\n"
     ]
    }
   ],
   "source": [
    "filenames = sorted(glob(f\"{abs_img_folder}/*.jpg\"))\n",
    "print(len(filenames))"
   ]
  },
  {
   "cell_type": "code",
   "execution_count": 6,
   "id": "cf9b9f4b-2a6a-4c77-88a1-b37daafa55b2",
   "metadata": {},
   "outputs": [],
   "source": [
    "df_path = sorted(glob(f\"{abs_img_folder}/*.csv\"))[0]"
   ]
  },
  {
   "cell_type": "code",
   "execution_count": 7,
   "id": "01af506f-b103-4741-a4f1-0225e5c6168e",
   "metadata": {
    "scrolled": true,
    "tags": []
   },
   "outputs": [
    {
     "data": {
      "text/html": [
       "<div>\n",
       "<style scoped>\n",
       "    .dataframe tbody tr th:only-of-type {\n",
       "        vertical-align: middle;\n",
       "    }\n",
       "\n",
       "    .dataframe tbody tr th {\n",
       "        vertical-align: top;\n",
       "    }\n",
       "\n",
       "    .dataframe thead th {\n",
       "        text-align: right;\n",
       "    }\n",
       "</style>\n",
       "<table border=\"1\" class=\"dataframe\">\n",
       "  <thead>\n",
       "    <tr style=\"text-align: right;\">\n",
       "      <th></th>\n",
       "      <th>filename</th>\n",
       "      <th>side</th>\n",
       "      <th>person_id</th>\n",
       "      <th>indicator</th>\n",
       "      <th>age</th>\n",
       "    </tr>\n",
       "  </thead>\n",
       "  <tbody>\n",
       "    <tr>\n",
       "      <th>19197</th>\n",
       "      <td>55_0_0_20170104212747734.jpg.chip.jpg</td>\n",
       "      <td>200</td>\n",
       "      <td>55_0_0_20170104212747734</td>\n",
       "      <td>1</td>\n",
       "      <td>55</td>\n",
       "    </tr>\n",
       "    <tr>\n",
       "      <th>10786</th>\n",
       "      <td>30_0_3_20170104230725129.jpg.chip.jpg</td>\n",
       "      <td>200</td>\n",
       "      <td>30_0_3_20170104230725129</td>\n",
       "      <td>1</td>\n",
       "      <td>30</td>\n",
       "    </tr>\n",
       "    <tr>\n",
       "      <th>13833</th>\n",
       "      <td>36_0_1_20170117010044349.jpg.chip.jpg</td>\n",
       "      <td>200</td>\n",
       "      <td>36_0_1_20170117010044349</td>\n",
       "      <td>1</td>\n",
       "      <td>36</td>\n",
       "    </tr>\n",
       "    <tr>\n",
       "      <th>9486</th>\n",
       "      <td>29_0_0_20170114032035047.jpg.chip.jpg</td>\n",
       "      <td>200</td>\n",
       "      <td>29_0_0_20170114032035047</td>\n",
       "      <td>1</td>\n",
       "      <td>29</td>\n",
       "    </tr>\n",
       "    <tr>\n",
       "      <th>17892</th>\n",
       "      <td>50_0_0_20170113184545256.jpg.chip.jpg</td>\n",
       "      <td>200</td>\n",
       "      <td>50_0_0_20170113184545256</td>\n",
       "      <td>1</td>\n",
       "      <td>50</td>\n",
       "    </tr>\n",
       "  </tbody>\n",
       "</table>\n",
       "</div>"
      ],
      "text/plain": [
       "                                    filename  side                 person_id  \\\n",
       "19197  55_0_0_20170104212747734.jpg.chip.jpg   200  55_0_0_20170104212747734   \n",
       "10786  30_0_3_20170104230725129.jpg.chip.jpg   200  30_0_3_20170104230725129   \n",
       "13833  36_0_1_20170117010044349.jpg.chip.jpg   200  36_0_1_20170117010044349   \n",
       "9486   29_0_0_20170114032035047.jpg.chip.jpg   200  29_0_0_20170114032035047   \n",
       "17892  50_0_0_20170113184545256.jpg.chip.jpg   200  50_0_0_20170113184545256   \n",
       "\n",
       "       indicator  age  \n",
       "19197          1   55  \n",
       "10786          1   30  \n",
       "13833          1   36  \n",
       "9486           1   29  \n",
       "17892          1   50  "
      ]
     },
     "execution_count": 7,
     "metadata": {},
     "output_type": "execute_result"
    }
   ],
   "source": [
    "df = pd.read_csv(\n",
    "    df_path, sep=\";\", names=[\"filename\", \"side\", \"person_id\", \"indicator\", \"age\"]\n",
    ")\n",
    "df.sample(5)"
   ]
  },
  {
   "cell_type": "code",
   "execution_count": 10,
   "id": "a4dd6edd-602d-4463-8fb9-cbbabc66e943",
   "metadata": {},
   "outputs": [
    {
     "data": {
      "text/html": [
       "<div>\n",
       "<style scoped>\n",
       "    .dataframe tbody tr th:only-of-type {\n",
       "        vertical-align: middle;\n",
       "    }\n",
       "\n",
       "    .dataframe tbody tr th {\n",
       "        vertical-align: top;\n",
       "    }\n",
       "\n",
       "    .dataframe thead th {\n",
       "        text-align: right;\n",
       "    }\n",
       "</style>\n",
       "<table border=\"1\" class=\"dataframe\">\n",
       "  <thead>\n",
       "    <tr style=\"text-align: right;\">\n",
       "      <th></th>\n",
       "      <th>side</th>\n",
       "      <th>indicator</th>\n",
       "      <th>age</th>\n",
       "    </tr>\n",
       "  </thead>\n",
       "  <tbody>\n",
       "    <tr>\n",
       "      <th>count</th>\n",
       "      <td>23697.0</td>\n",
       "      <td>23697.000000</td>\n",
       "      <td>23697.000000</td>\n",
       "    </tr>\n",
       "    <tr>\n",
       "      <th>mean</th>\n",
       "      <td>200.0</td>\n",
       "      <td>0.522598</td>\n",
       "      <td>33.297970</td>\n",
       "    </tr>\n",
       "    <tr>\n",
       "      <th>std</th>\n",
       "      <td>0.0</td>\n",
       "      <td>0.499500</td>\n",
       "      <td>19.848907</td>\n",
       "    </tr>\n",
       "    <tr>\n",
       "      <th>min</th>\n",
       "      <td>200.0</td>\n",
       "      <td>0.000000</td>\n",
       "      <td>1.000000</td>\n",
       "    </tr>\n",
       "    <tr>\n",
       "      <th>25%</th>\n",
       "      <td>200.0</td>\n",
       "      <td>0.000000</td>\n",
       "      <td>23.000000</td>\n",
       "    </tr>\n",
       "    <tr>\n",
       "      <th>50%</th>\n",
       "      <td>200.0</td>\n",
       "      <td>1.000000</td>\n",
       "      <td>29.000000</td>\n",
       "    </tr>\n",
       "    <tr>\n",
       "      <th>75%</th>\n",
       "      <td>200.0</td>\n",
       "      <td>1.000000</td>\n",
       "      <td>45.000000</td>\n",
       "    </tr>\n",
       "    <tr>\n",
       "      <th>max</th>\n",
       "      <td>200.0</td>\n",
       "      <td>1.000000</td>\n",
       "      <td>100.000000</td>\n",
       "    </tr>\n",
       "  </tbody>\n",
       "</table>\n",
       "</div>"
      ],
      "text/plain": [
       "          side     indicator           age\n",
       "count  23697.0  23697.000000  23697.000000\n",
       "mean     200.0      0.522598     33.297970\n",
       "std        0.0      0.499500     19.848907\n",
       "min      200.0      0.000000      1.000000\n",
       "25%      200.0      0.000000     23.000000\n",
       "50%      200.0      1.000000     29.000000\n",
       "75%      200.0      1.000000     45.000000\n",
       "max      200.0      1.000000    100.000000"
      ]
     },
     "execution_count": 10,
     "metadata": {},
     "output_type": "execute_result"
    }
   ],
   "source": [
    "df.drop(\"filename\", axis=1).describe()"
   ]
  },
  {
   "cell_type": "markdown",
   "id": "d4fb0f3a-7761-413f-b15f-44e37a03cd7b",
   "metadata": {},
   "source": [
    "## Unique people"
   ]
  },
  {
   "cell_type": "code",
   "execution_count": null,
   "id": "c2f0003a-5906-4e92-8ab3-cd75fc8997f4",
   "metadata": {},
   "outputs": [],
   "source": []
  },
  {
   "cell_type": "markdown",
   "id": "94b8ae74-7b9f-420a-9975-3e38953fedeb",
   "metadata": {},
   "source": [
    "# Age KDE"
   ]
  },
  {
   "cell_type": "code",
   "execution_count": 8,
   "id": "33388414-eb4d-4eb5-9421-6a5bc3768ed3",
   "metadata": {},
   "outputs": [
    {
     "data": {
      "text/plain": [
       "<AxesSubplot: ylabel='Density'>"
      ]
     },
     "execution_count": 8,
     "metadata": {},
     "output_type": "execute_result"
    },
    {
     "data": {
      "image/png": "[encoded data removed]",
      "text/plain": [
       "<Figure size 432x288 with 1 Axes>"
      ]
     },
     "metadata": {
      "needs_background": "light"
     },
     "output_type": "display_data"
    }
   ],
   "source": [
    "df[\"age\"].plot(kind=\"kde\")"
   ]
  },
  {
   "cell_type": "markdown",
   "id": "87439baf-cf64-4828-ad2d-9bf8fe0f2a5a",
   "metadata": {},
   "source": [
    "Teens are strangly rare\n",
    "\n",
    "The most represented is middle aged"
   ]
  },
  {
   "cell_type": "code",
   "execution_count": null,
   "id": "41de5ee6-427b-4602-b0fa-ecfefbeb1226",
   "metadata": {},
   "outputs": [],
   "source": []
  }
 ],
 "metadata": {
  "kernelspec": {
   "display_name": "Python [conda env:face_detection_age]",
   "language": "python",
   "name": "conda-env-face_detection_age-py"
  },
  "language_info": {
   "codemirror_mode": {
    "name": "ipython",
    "version": 3
   },
   "file_extension": ".py",
   "mimetype": "text/x-python",
   "name": "python",
   "nbconvert_exporter": "python",
   "pygments_lexer": "ipython3",
   "version": "3.8.17"
  }
 },
 "nbformat": 4,
 "nbformat_minor": 5
}
