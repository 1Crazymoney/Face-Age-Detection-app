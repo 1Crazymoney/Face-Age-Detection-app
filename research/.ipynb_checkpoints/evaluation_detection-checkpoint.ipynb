{
 "cells": [
  {
   "cell_type": "code",
   "execution_count": null,
   "id": "f29a3c56-36e7-46f4-bacb-f05896de7aa9",
   "metadata": {},
   "outputs": [],
   "source": []
  },
  {
   "cell_type": "markdown",
   "id": "78cc7f5d-fe73-4cbc-bf89-00d83525c1d8",
   "metadata": {},
   "source": [
    "# Args"
   ]
  },
  {
   "cell_type": "code",
   "execution_count": 3,
   "id": "a75f0514-e0b2-4c5a-80eb-fb2f76282e70",
   "metadata": {},
   "outputs": [],
   "source": [
    "import yaml "
   ]
  },
  {
   "cell_type": "code",
   "execution_count": 25,
   "id": "bae3643c-7a18-4d17-8677-5e09e7fa863a",
   "metadata": {
    "tags": [
     "parameters"
    ]
   },
   "outputs": [],
   "source": [
    "gpu_gb_limit = 6\n",
    "\n",
    "abs_img_folder = r'/home/arm16/0_git/private/face_p_age_detection//data/UTKFace_Dataset/'"
   ]
  },
  {
   "cell_type": "markdown",
   "id": "7ee32609-8180-4030-b971-4692a2245fb0",
   "metadata": {},
   "source": [
    "# Imports"
   ]
  },
  {
   "cell_type": "markdown",
   "id": "d9d1a870-1d29-4c23-932a-17bd63c56feb",
   "metadata": {},
   "source": [
    "## tf"
   ]
  },
  {
   "cell_type": "code",
   "execution_count": null,
   "id": "45a1cfc0-e388-44d2-b719-76e45fa1f3e9",
   "metadata": {},
   "outputs": [],
   "source": [
    "import tensorflow as tf"
   ]
  },
  {
   "cell_type": "markdown",
   "id": "02c55ca5-6470-48b2-b741-6f0394f67758",
   "metadata": {},
   "source": [
    "### Limit inference GPU"
   ]
  },
  {
   "cell_type": "code",
   "execution_count": null,
   "id": "228063da-f7cd-44e5-bc14-000869bdb54f",
   "metadata": {},
   "outputs": [],
   "source": [
    "import tf_mem"
   ]
  },
  {
   "cell_type": "code",
   "execution_count": null,
   "id": "3e28601f-39e4-4ae6-aea6-3ce2b12d63db",
   "metadata": {},
   "outputs": [],
   "source": [
    "tf_mem.limit_gpu_gb(gpu_gb_limit)"
   ]
  },
  {
   "cell_type": "markdown",
   "id": "9ab07fc2-2ad3-4573-910c-096bbd2c8e34",
   "metadata": {},
   "source": [
    "## Non GPU"
   ]
  },
  {
   "cell_type": "code",
   "execution_count": 1,
   "id": "1504d948-a713-4824-aafa-0c23257fb058",
   "metadata": {},
   "outputs": [],
   "source": [
    "from glob import glob\n",
    "from deepface import DeepFace\n",
    "from tqdm import tqdm\n",
    "import os"
   ]
  },
  {
   "cell_type": "code",
   "execution_count": null,
   "id": "72241e57-d961-4736-9eda-66d8de398ab9",
   "metadata": {},
   "outputs": [],
   "source": [
    "from src.models.inference import extract_face"
   ]
  },
  {
   "cell_type": "markdown",
   "id": "0bb687a7-86ee-455d-a244-5349ed36eded",
   "metadata": {},
   "source": [
    "# mtcnn (Deepface) on target UTKFace (crops) no bboxes occurance of non-detection"
   ]
  },
  {
   "cell_type": "markdown",
   "id": "abc6c138-4e67-40a4-802a-6e3f2c19c9de",
   "metadata": {},
   "source": [
    "## Infere and store pathes where is no detection"
   ]
  },
  {
   "cell_type": "code",
   "execution_count": 26,
   "id": "c346af3c-6dd0-43c5-b53c-1e89ea1cfb04",
   "metadata": {},
   "outputs": [
    {
     "name": "stdout",
     "output_type": "stream",
     "text": [
      "23697\n"
     ]
    }
   ],
   "source": [
    "from glob import glob\n",
    "filenames = sorted(glob(f'{abs_img_folder}/*.jpg'))\n",
    "print(len(filenames))"
   ]
  },
  {
   "cell_type": "code",
   "execution_count": 5,
   "id": "a5ef6ba1-82f6-409f-9bdf-0834560c0d2c",
   "metadata": {},
   "outputs": [],
   "source": [
    "backend = 'mtcnn'"
   ]
  },
  {
   "cell_type": "code",
   "execution_count": null,
   "id": "4e737eb1-ec3d-4bc5-af1b-7240a447e938",
   "metadata": {},
   "outputs": [],
   "source": [
    "pathes_non_detect = []\n",
    "confidences = []\n",
    "\n",
    "#for backend in backends_selected:\n",
    "for img_path_full in tqdm(filenames):\n",
    "    try:\n",
    "          face_obj = extract_face(img_path_full,\n",
    "                                typical_dataset_im_size,\n",
    "                                enforce_detection=True)\n",
    "\n",
    "        n_face = len(face_obj)\n",
    "        #n_face_arr.append(n_face)\n",
    "    except:\n",
    "          face_obj = extract_face(img_path_full,\n",
    "                                typical_dataset_im_size,\n",
    "                                enforce_detection=False)\n",
    "\n",
    "        filename = os.path.basename(img_path_full)\n",
    "        pathes_non_detect.append(filename)\n",
    "        confidences.append(face_obj[0]['confidence'])\n",
    "    \n",
    "    #print(f'{n_face} found')\n",
    "    #plot_pred(face_obj)\n",
    "    \n",
    "    #break"
   ]
  },
  {
   "cell_type": "markdown",
   "id": "0b030ee5-2d0e-4cf5-80dc-2d4218c9b60b",
   "metadata": {},
   "source": [
    "### store non-detected"
   ]
  },
  {
   "cell_type": "code",
   "execution_count": 21,
   "id": "d26710fa-ec70-4ba3-a84d-ff0df032cee5",
   "metadata": {},
   "outputs": [],
   "source": [
    "non_detect_storage = f'{backend}_no_detect.yaml'\n",
    "\n",
    "with open(non_detect_storage, 'w') as file:\n",
    "    yaml.dump(pathes_non_detect, file)"
   ]
  },
  {
   "cell_type": "markdown",
   "id": "33d243c7-b91a-41be-8b2c-6e7cbd728ad8",
   "metadata": {},
   "source": [
    "# Load non-detected"
   ]
  },
  {
   "cell_type": "code",
   "execution_count": null,
   "id": "d6d4a13a-8ec2-464b-8bf0-1f3394868da3",
   "metadata": {
    "scrolled": true,
    "tags": []
   },
   "outputs": [],
   "source": [
    "non_detect_storage = f'{backend}_no_detect.yaml'\n",
    "\n",
    "with open(non_detect_storage, 'r') as file:\n",
    "    pathes_non_detect = yaml.safe_load(file)\n",
    "pathes_non_detect"
   ]
  },
  {
   "cell_type": "code",
   "execution_count": 27,
   "id": "78d01d5f-a97b-4d0f-8c40-3f2a095fb397",
   "metadata": {},
   "outputs": [
    {
     "data": {
      "text/plain": [
       "0.989323543064523"
      ]
     },
     "execution_count": 27,
     "metadata": {},
     "output_type": "execute_result"
    }
   ],
   "source": [
    "occurance_score = 1-len(pathes_non_detect)/len(filenames)\n",
    "occurance_score"
   ]
  },
  {
   "cell_type": "markdown",
   "id": "613a3b7d-5dd2-4f37-9ecb-3d075dfa2ad1",
   "metadata": {},
   "source": [
    "# mtcnn (Deepface) on FDDB, WIDER, CelebA, AFLW Detection metrics"
   ]
  },
  {
   "cell_type": "code",
   "execution_count": null,
   "id": "31d2d3fd-e837-47ee-9453-6cbd9867c97d",
   "metadata": {},
   "outputs": [],
   "source": []
  },
  {
   "cell_type": "code",
   "execution_count": null,
   "id": "921f0548-b806-4c2b-aca4-d865dd25a13e",
   "metadata": {},
   "outputs": [],
   "source": []
  }
 ],
 "metadata": {
  "kernelspec": {
   "display_name": "Python [conda env:face_detection_age]",
   "language": "python",
   "name": "conda-env-face_detection_age-py"
  },
  "language_info": {
   "codemirror_mode": {
    "name": "ipython",
    "version": 3
   },
   "file_extension": ".py",
   "mimetype": "text/x-python",
   "name": "python",
   "nbconvert_exporter": "python",
   "pygments_lexer": "ipython3",
   "version": "3.8.17"
  }
 },
 "nbformat": 4,
 "nbformat_minor": 5
}
