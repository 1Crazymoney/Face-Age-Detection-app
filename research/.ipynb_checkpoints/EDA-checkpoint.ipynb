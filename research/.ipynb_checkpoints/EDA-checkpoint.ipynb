{
 "cells": [
  {
   "cell_type": "code",
   "execution_count": null,
   "id": "c009dc92-b6f3-4682-93ab-1df9eb8fd56e",
   "metadata": {},
   "outputs": [],
   "source": []
  },
  {
   "cell_type": "markdown",
   "id": "799f1ed4-6e58-4cb5-8539-19088b50dafe",
   "metadata": {},
   "source": [
    "# Imports"
   ]
  },
  {
   "cell_type": "code",
   "execution_count": 11,
   "id": "b21cdbf8-b171-4778-8aa4-de6f561e579e",
   "metadata": {},
   "outputs": [],
   "source": [
    "from glob import glob\n",
    "import os\n",
    "import pandas as pd\n",
    "from typing import List\n",
    "\n",
    "import cv2"
   ]
  },
  {
   "cell_type": "markdown",
   "id": "0fe8a253-9596-46f1-8041-7f215cc20e3a",
   "metadata": {},
   "source": [
    "# Args"
   ]
  },
  {
   "cell_type": "code",
   "execution_count": 10,
   "id": "6e3ab966-d2fd-4b03-9656-76c33188018c",
   "metadata": {
    "tags": [
     "parameters"
    ]
   },
   "outputs": [],
   "source": [
    "croped_age_img_folder = r\"../data/\""
   ]
  },
  {
   "cell_type": "markdown",
   "id": "8d9d9e37-b2e9-4b79-a935-24729a3ec2d8",
   "metadata": {},
   "source": [
    "# Read data"
   ]
  },
  {
   "cell_type": "code",
   "execution_count": 24,
   "id": "f93b409c-a6cb-40af-a5f5-9d62a7ed8478",
   "metadata": {},
   "outputs": [
    {
     "name": "stdout",
     "output_type": "stream",
     "text": [
      "23709\n"
     ]
    }
   ],
   "source": [
    "filenpaths = sorted(glob(f\"{croped_age_img_folder}/*.jpg\"))\n",
    "print(len(filenpaths))"
   ]
  },
  {
   "cell_type": "code",
   "execution_count": 26,
   "id": "e24993a8-657f-494a-aeef-d24dbac5f000",
   "metadata": {},
   "outputs": [
    {
     "data": {
      "text/plain": [
       "'100_0_0_20170112213500903.jpg.chip.jpg'"
      ]
     },
     "execution_count": 26,
     "metadata": {},
     "output_type": "execute_result"
    }
   ],
   "source": [
    "filenpaths[0].split(os.sep)[-1]"
   ]
  },
  {
   "cell_type": "markdown",
   "id": "2d3438da-f9a0-45c7-b20d-fdd86e33396b",
   "metadata": {},
   "source": [
    "# Extrace targets"
   ]
  },
  {
   "cell_type": "code",
   "execution_count": 50,
   "id": "d7059e59-043b-4d27-90b0-f12a814ba845",
   "metadata": {},
   "outputs": [],
   "source": [
    "def convert_names_and_images(paths: list) -> List[List[str]]:\n",
    "    \"\"\"{age}_{sm1}_{sm2}_{human_id} to header=[filename_full, side, person_id, age]\n",
    "    DataFrame ready list of lists\"\"\"\n",
    "    converted_data = []\n",
    "    for path in paths:\n",
    "        image = cv2.imread(path)\n",
    "        height, width = image.shape[:2]\n",
    "        side = max(height, width)\n",
    "\n",
    "        # Extract information from the filename\n",
    "        filename_full = path.split(os.sep)[-1]\n",
    "        name = filename_full.split(\".\")[0]\n",
    "        name_parts = name.split(\"_\")\n",
    "\n",
    "        person_id = name\n",
    "        age = int(name_parts[0])\n",
    "\n",
    "        row = (filename_full, side, person_id, age)\n",
    "        converted_data.append(row)\n",
    "\n",
    "    return converted_data"
   ]
  },
  {
   "cell_type": "code",
   "execution_count": 52,
   "id": "320df0d5-c4e7-4b02-939b-c2acbedd6e23",
   "metadata": {},
   "outputs": [],
   "source": [
    "df = pd.DataFrame(\n",
    "    convert_names_and_images(filenpaths),\n",
    "    columns=\"filename_full, side, person_id, age\".split(\", \"),\n",
    ")"
   ]
  },
  {
   "cell_type": "code",
   "execution_count": 53,
   "id": "f5975d50-dfa8-48d9-b9d4-8f028d9f4be3",
   "metadata": {},
   "outputs": [
    {
     "data": {
      "text/html": [
       "<div>\n",
       "<style scoped>\n",
       "    .dataframe tbody tr th:only-of-type {\n",
       "        vertical-align: middle;\n",
       "    }\n",
       "\n",
       "    .dataframe tbody tr th {\n",
       "        vertical-align: top;\n",
       "    }\n",
       "\n",
       "    .dataframe thead th {\n",
       "        text-align: right;\n",
       "    }\n",
       "</style>\n",
       "<table border=\"1\" class=\"dataframe\">\n",
       "  <thead>\n",
       "    <tr style=\"text-align: right;\">\n",
       "      <th></th>\n",
       "      <th>filename_full</th>\n",
       "      <th>side</th>\n",
       "      <th>person_id</th>\n",
       "      <th>age</th>\n",
       "    </tr>\n",
       "  </thead>\n",
       "  <tbody>\n",
       "    <tr>\n",
       "      <th>11182</th>\n",
       "      <td>30_1_3_20170117132700450.jpg.chip.jpg</td>\n",
       "      <td>200</td>\n",
       "      <td>30_1_3_20170117132700450</td>\n",
       "      <td>30</td>\n",
       "    </tr>\n",
       "    <tr>\n",
       "      <th>18758</th>\n",
       "      <td>53_1_0_20170104212453853.jpg.chip.jpg</td>\n",
       "      <td>200</td>\n",
       "      <td>53_1_0_20170104212453853</td>\n",
       "      <td>53</td>\n",
       "    </tr>\n",
       "    <tr>\n",
       "      <th>4516</th>\n",
       "      <td>24_1_0_20170117155121820.jpg.chip.jpg</td>\n",
       "      <td>200</td>\n",
       "      <td>24_1_0_20170117155121820</td>\n",
       "      <td>24</td>\n",
       "    </tr>\n",
       "    <tr>\n",
       "      <th>6050</th>\n",
       "      <td>26_0_1_20170113135547147.jpg.chip.jpg</td>\n",
       "      <td>200</td>\n",
       "      <td>26_0_1_20170113135547147</td>\n",
       "      <td>26</td>\n",
       "    </tr>\n",
       "    <tr>\n",
       "      <th>12316</th>\n",
       "      <td>33_1_0_20170103181128408.jpg.chip.jpg</td>\n",
       "      <td>200</td>\n",
       "      <td>33_1_0_20170103181128408</td>\n",
       "      <td>33</td>\n",
       "    </tr>\n",
       "  </tbody>\n",
       "</table>\n",
       "</div>"
      ],
      "text/plain": [
       "                               filename_full  side                 person_id  \\\n",
       "11182  30_1_3_20170117132700450.jpg.chip.jpg   200  30_1_3_20170117132700450   \n",
       "18758  53_1_0_20170104212453853.jpg.chip.jpg   200  53_1_0_20170104212453853   \n",
       "4516   24_1_0_20170117155121820.jpg.chip.jpg   200  24_1_0_20170117155121820   \n",
       "6050   26_0_1_20170113135547147.jpg.chip.jpg   200  26_0_1_20170113135547147   \n",
       "12316  33_1_0_20170103181128408.jpg.chip.jpg   200  33_1_0_20170103181128408   \n",
       "\n",
       "       age  \n",
       "11182   30  \n",
       "18758   53  \n",
       "4516    24  \n",
       "6050    26  \n",
       "12316   33  "
      ]
     },
     "execution_count": 53,
     "metadata": {},
     "output_type": "execute_result"
    }
   ],
   "source": [
    "df.sample(5)"
   ]
  },
  {
   "cell_type": "markdown",
   "id": "a3aaaaa1-02b7-4cca-8d77-369629123d35",
   "metadata": {},
   "source": [
    "# Analyze the data"
   ]
  },
  {
   "cell_type": "markdown",
   "id": "a705a77c-6eaf-4188-a987-1e09e57648fc",
   "metadata": {},
   "source": [
    "## Boundaries and outliers"
   ]
  },
  {
   "cell_type": "code",
   "execution_count": 54,
   "id": "a4dd6edd-602d-4463-8fb9-cbbabc66e943",
   "metadata": {},
   "outputs": [
    {
     "data": {
      "text/html": [
       "<div>\n",
       "<style scoped>\n",
       "    .dataframe tbody tr th:only-of-type {\n",
       "        vertical-align: middle;\n",
       "    }\n",
       "\n",
       "    .dataframe tbody tr th {\n",
       "        vertical-align: top;\n",
       "    }\n",
       "\n",
       "    .dataframe thead th {\n",
       "        text-align: right;\n",
       "    }\n",
       "</style>\n",
       "<table border=\"1\" class=\"dataframe\">\n",
       "  <thead>\n",
       "    <tr style=\"text-align: right;\">\n",
       "      <th></th>\n",
       "      <th>side</th>\n",
       "      <th>age</th>\n",
       "    </tr>\n",
       "  </thead>\n",
       "  <tbody>\n",
       "    <tr>\n",
       "      <th>count</th>\n",
       "      <td>23709.0</td>\n",
       "      <td>23709.000000</td>\n",
       "    </tr>\n",
       "    <tr>\n",
       "      <th>mean</th>\n",
       "      <td>200.0</td>\n",
       "      <td>33.304652</td>\n",
       "    </tr>\n",
       "    <tr>\n",
       "      <th>std</th>\n",
       "      <td>0.0</td>\n",
       "      <td>19.886506</td>\n",
       "    </tr>\n",
       "    <tr>\n",
       "      <th>min</th>\n",
       "      <td>200.0</td>\n",
       "      <td>1.000000</td>\n",
       "    </tr>\n",
       "    <tr>\n",
       "      <th>25%</th>\n",
       "      <td>200.0</td>\n",
       "      <td>23.000000</td>\n",
       "    </tr>\n",
       "    <tr>\n",
       "      <th>50%</th>\n",
       "      <td>200.0</td>\n",
       "      <td>29.000000</td>\n",
       "    </tr>\n",
       "    <tr>\n",
       "      <th>75%</th>\n",
       "      <td>200.0</td>\n",
       "      <td>45.000000</td>\n",
       "    </tr>\n",
       "    <tr>\n",
       "      <th>max</th>\n",
       "      <td>200.0</td>\n",
       "      <td>116.000000</td>\n",
       "    </tr>\n",
       "  </tbody>\n",
       "</table>\n",
       "</div>"
      ],
      "text/plain": [
       "          side           age\n",
       "count  23709.0  23709.000000\n",
       "mean     200.0     33.304652\n",
       "std        0.0     19.886506\n",
       "min      200.0      1.000000\n",
       "25%      200.0     23.000000\n",
       "50%      200.0     29.000000\n",
       "75%      200.0     45.000000\n",
       "max      200.0    116.000000"
      ]
     },
     "execution_count": 54,
     "metadata": {},
     "output_type": "execute_result"
    }
   ],
   "source": [
    "df.describe()"
   ]
  },
  {
   "cell_type": "markdown",
   "id": "d4fb0f3a-7761-413f-b15f-44e37a03cd7b",
   "metadata": {},
   "source": [
    "## Unique people"
   ]
  },
  {
   "cell_type": "code",
   "execution_count": 56,
   "id": "c2f0003a-5906-4e92-8ab3-cd75fc8997f4",
   "metadata": {},
   "outputs": [
    {
     "data": {
      "text/plain": [
       "23709"
      ]
     },
     "execution_count": 56,
     "metadata": {},
     "output_type": "execute_result"
    }
   ],
   "source": [
    "df[\"person_id\"].nunique()"
   ]
  },
  {
   "cell_type": "markdown",
   "id": "b25b9b2d-f912-482f-835a-f0eafbf116e5",
   "metadata": {},
   "source": [
    "All are different"
   ]
  },
  {
   "cell_type": "markdown",
   "id": "94b8ae74-7b9f-420a-9975-3e38953fedeb",
   "metadata": {},
   "source": [
    "## Target distribution"
   ]
  },
  {
   "cell_type": "code",
   "execution_count": 57,
   "id": "1ab0dca1-cb86-4715-9b73-456fdf6e4bc8",
   "metadata": {},
   "outputs": [
    {
     "data": {
      "text/plain": [
       "<AxesSubplot: ylabel='Density'>"
      ]
     },
     "execution_count": 57,
     "metadata": {},
     "output_type": "execute_result"
    },
    {
     "data": {
      "image/png": "[encoded data removed]",
      "text/plain": [
       "<Figure size 640x480 with 1 Axes>"
      ]
     },
     "metadata": {},
     "output_type": "display_data"
    }
   ],
   "source": [
    "df[\"age\"].plot(kind=\"kde\")"
   ]
  },
  {
   "cell_type": "markdown",
   "id": "87439baf-cf64-4828-ad2d-9bf8fe0f2a5a",
   "metadata": {},
   "source": [
    "Teens are strangly rare\n",
    "\n",
    "The most represented is middle aged"
   ]
  }
 ],
 "metadata": {
  "kernelspec": {
   "display_name": "Python [conda env:face_detection_age]",
   "language": "python",
   "name": "conda-env-face_detection_age-py"
  },
  "language_info": {
   "codemirror_mode": {
    "name": "ipython",
    "version": 3
   },
   "file_extension": ".py",
   "mimetype": "text/x-python",
   "name": "python",
   "nbconvert_exporter": "python",
   "pygments_lexer": "ipython3",
   "version": "3.8.19"
  }
 },
 "nbformat": 4,
 "nbformat_minor": 5
}
