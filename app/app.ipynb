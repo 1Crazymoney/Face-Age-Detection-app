{
 "cells": [
  {
   "cell_type": "code",
   "execution_count": 1,
   "id": "1a2a914d-b64f-43fe-8944-859c228f0ffe",
   "metadata": {},
   "outputs": [],
   "source": [
    "from fastapi import FastAPI, File, UploadFile\n",
    "from fastapi.middleware.cors import CORSMiddleware\n",
    "import uvicorn\n",
    "import numpy as np\n",
    "from io import BytesIO\n",
    "from PIL import Image\n",
    "\n",
    "app = FastAPI()"
   ]
  },
  {
   "cell_type": "code",
   "execution_count": null,
   "id": "1e744072-7153-4f30-ad2f-c75562ac66de",
   "metadata": {},
   "outputs": [],
   "source": [
    "from src.models import load_model"
   ]
  },
  {
   "cell_type": "code",
   "execution_count": null,
   "id": "956a8e45-e3a3-4f37-bf7e-d8408a4842e7",
   "metadata": {},
   "outputs": [],
   "source": [
    "class Predictor:\n",
    "    def __init__(self):\n",
    "        model = None"
   ]
  },
  {
   "cell_type": "code",
   "execution_count": null,
   "id": "e2dd817c-f87c-4c02-8e07-9b9cc213e7c7",
   "metadata": {},
   "outputs": [],
   "source": [
    "@app.on_event('startup')\n",
    "def init_data():\n",
    "    print(\"Loading model...\")\n",
    "    Predictor.model = load_model()\n",
    "    print(\"Loaded succesivly...\")\n",
    "    return model"
   ]
  },
  {
   "cell_type": "code",
   "execution_count": null,
   "id": "d7df2b79-4cfe-4c9a-87b4-38175e52469e",
   "metadata": {},
   "outputs": [],
   "source": [
    "@app.get(\"/ping\")\n",
    "async def ping():\n",
    "    return \"Hello, I am alive\""
   ]
  },
  {
   "cell_type": "markdown",
   "id": "1eeff11b-f652-4683-b175-3112f4d71a88",
   "metadata": {},
   "source": [
    "# Core"
   ]
  },
  {
   "cell_type": "code",
   "execution_count": null,
   "id": "988e3530-ee54-4250-ae13-470b27b0d705",
   "metadata": {},
   "outputs": [],
   "source": [
    "from src.models.inference import recognition_pipeline"
   ]
  },
  {
   "cell_type": "code",
   "execution_count": null,
   "id": "01408591-68be-4a87-9ad7-d3b8a5bbe780",
   "metadata": {},
   "outputs": [],
   "source": [
    "@app.post(\"/api/predict_photo\")\n",
    "async def predict(\n",
    "    file: UploadFile = File(...)\n",
    "):\n",
    "    #image = read_file_as_image(await file.read())\n",
    "    #img_batch = np.expand_dims(image, 0)\n",
    "    #predictions = Predictor.model.predict(img_batch)\n",
    "    #print(predictions[0])\n",
    "    #predicted_class = CLASS_NAMES[np.argmax(predictions[0])]\n",
    "    #confidence = np.max(predictions[0])\n",
    "    \n",
    "    outs =  recognition_pipeline(file)\n",
    "    \n",
    "    return outs"
   ]
  },
  {
   "cell_type": "code",
   "execution_count": null,
   "id": "2f92659e-adfb-4726-8fbf-5e63714cb641",
   "metadata": {},
   "outputs": [],
   "source": [
    "@app.post(\"/api/predict_video\")\n",
    "async def predict(\n",
    "    file: UploadFile = File(...)\n",
    "):\n",
    "    \n",
    "    Predictor.model\n",
    "    \n",
    "    img_batch = np.expand_dims(image, 0)\n",
    "    \n",
    "    predictions = Predictor.model.predict(img_batch)\n",
    "    \n",
    "    \n",
    "    #print(predictions[0])\n",
    "    #predicted_class = CLASS_NAMES[np.argmax(predictions[0])]\n",
    "    #confidence = np.max(predictions[0])\n",
    "    return {\n",
    "        'class': predicted_class,\n",
    "        'confidence': float(confidence)\n",
    "    }"
   ]
  },
  {
   "cell_type": "code",
   "execution_count": null,
   "id": "6164b6d1-e0c0-4423-b562-df1901a7033d",
   "metadata": {},
   "outputs": [],
   "source": [
    "if __name__ == \"__main__\":\n",
    "    uvicorn.run(app, host='localhost', port=8000)"
   ]
  },
  {
   "cell_type": "code",
   "execution_count": null,
   "id": "dfc0f8f6-61e4-489d-a934-98fff888e5c0",
   "metadata": {},
   "outputs": [],
   "source": []
  },
  {
   "cell_type": "code",
   "execution_count": null,
   "id": "4c320e5b-a59b-4bc8-81a0-fb60356e2eda",
   "metadata": {},
   "outputs": [],
   "source": []
  },
  {
   "cell_type": "code",
   "execution_count": null,
   "id": "2b04da13-2e82-4e14-9e8f-c94a75163b58",
   "metadata": {},
   "outputs": [],
   "source": []
  }
 ],
 "metadata": {
  "kernelspec": {
   "display_name": "Python [conda env:face_detection_age]",
   "language": "python",
   "name": "conda-env-face_detection_age-py"
  },
  "language_info": {
   "codemirror_mode": {
    "name": "ipython",
    "version": 3
   },
   "file_extension": ".py",
   "mimetype": "text/x-python",
   "name": "python",
   "nbconvert_exporter": "python",
   "pygments_lexer": "ipython3",
   "version": "3.8.13"
  }
 },
 "nbformat": 4,
 "nbformat_minor": 5
}
